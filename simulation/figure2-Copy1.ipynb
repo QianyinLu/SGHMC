{
 "cells": [
  {
   "cell_type": "code",
   "execution_count": 1,
   "metadata": {},
   "outputs": [],
   "source": [
    "import numpy as np\n",
    "import matplotlib.pyplot as plt\n",
    "import random"
   ]
  },
  {
   "cell_type": "code",
   "execution_count": 2,
   "metadata": {},
   "outputs": [],
   "source": [
    "np.random.seed(550)\n",
    "m = 1\n",
    "C = 3\n",
    "dt = 0.1\n",
    "step = 300\n",
    "niter  = 50\n",
    "# noise in the gradient\n",
    "sigma = 0.5\n",
    "\n",
    "gradUPerfect = lambda x: x\n",
    "gradU = lambda x: x + np.random.randn(1) * sigma\n",
    "\n",
    "x0 = np.ones((1, 1))\n",
    "p0 = np.zeros((1, 1))"
   ]
  },
  {
   "cell_type": "code",
   "execution_count": 3,
   "metadata": {},
   "outputs": [],
   "source": [
    "# Second order Langevin dynamics with noised gradient\n",
    "np.random.seed(550)\n",
    "x = x0\n",
    "p = p0\n",
    "xs = np.zeros((step, 1))\n",
    "ys = np.zeros((step, 1))\n",
    "Bhat = 0.5 * np.power(sigma, 2) * dt\n",
    "D = np.sqrt(2 * (C - Bhat) * dt)\n",
    "for i in range(step):\n",
    "    for j in range(niter):\n",
    "        p = p - gradU(x) * dt - p * C * dt + np.random.randn(1) * D\n",
    "        x = x + p/m * dt\n",
    "    xs[i] = x\n",
    "    ys[i] = p\n",
    "    \n",
    "x1, y1 = xs, ys"
   ]
  },
  {
   "cell_type": "code",
   "execution_count": null,
   "metadata": {},
   "outputs": [],
   "source": [
    "def hamilton(x0,p0,grad,m =1, dt = 0.1,step = 300, niter= 50,r = 'wo'):\n",
    "    np.random.seed(550)\n",
    "    x = x0\n",
    "    p = p0\n",
    "    xs = np.zeros((step, 1))\n",
    "    ys = np.zeros((step, 1))\n",
    "    if r == 'wo':\n",
    "        for i in range(step):\n",
    "            for j in range(niter):\n",
    "                p = p - grad(x) * dt/2\n",
    "                x = x + p/m * dt\n",
    "                p = p - grad(x) * dt/2\n",
    "            xs[i] = x\n",
    "            ys[i] = p\n",
    "    else:\n",
    "        for i in range(step):\n",
    "            p = np.random.randn(len(x)) * np.sqrt(m)\n",
    "            for j in range(niter):\n",
    "                p = p - grad(x) * dt/2\n",
    "                x = x + p/m * dt\n",
    "                p = p - grad(x) * dt/2\n",
    "            xs[i] = x\n",
    "            ys[i] = p\n",
    "        \n",
    "    return xs, ys\n"
   ]
  },
  {
   "cell_type": "code",
   "execution_count": null,
   "metadata": {},
   "outputs": [],
   "source": [
    "x2,y2 = hamilton(x0,p0,grad = gradU)\n",
    "x4,y4 = hamilton(x0,p0,grad = gradUPerfect)\n",
    "x3,y3 = hamilton(x0,p0,grad = gradU, r = 'w')"
   ]
  },
  {
   "cell_type": "code",
   "execution_count": null,
   "metadata": {},
   "outputs": [],
   "source": [
    "fig, ax = plt.subplots(figsize=(10,8))\n",
    "ax.scatter(x1, y1,c='',edgecolors= 'green',s=25,\n",
    "           cmap='Greens',marker='o',\n",
    "           label='Noisy Hamiltonian with friction')\n",
    "ax.scatter(x2, y2,c='',edgecolors='red',s=25,\n",
    "           cmap='Reds',marker='v',\n",
    "           label='Noisy Hamiltonian')\n",
    "ax.scatter(x3, y3,c='',edgecolors='grey',s=25,\n",
    "           cmap='Greys',marker='o',\n",
    "           label='Noisy Hamiltonian with resampling')\n",
    "ax.scatter(x4, y4,c='blue',s=25,\n",
    "           cmap='Blues',marker='x',\n",
    "           label='Hamiltonian')\n",
    "ax.set_title(\"Posterior Samples\")\n",
    "ax.set_ylabel(\"r\")\n",
    "ax.set_xlabel(\"theta\")\n",
    "\n",
    "leg = ax.legend(loc='upper right')\n",
    "leg.legendHandles[0].set_color('green')\n",
    "leg.legendHandles[1].set_color('red')\n",
    "leg.legendHandles[2].set_color('grey')\n",
    "leg.legendHandles[3].set_color('blue')\n",
    "fig.savefig('posterior_samples')"
   ]
  },
  {
   "cell_type": "markdown",
   "metadata": {},
   "source": []
  }
 ],
 "metadata": {
  "kernelspec": {
   "display_name": "Python 3",
   "language": "python",
   "name": "python3"
  },
  "language_info": {
   "codemirror_mode": {
    "name": "ipython",
    "version": 3
   },
   "file_extension": ".py",
   "mimetype": "text/x-python",
   "name": "python",
   "nbconvert_exporter": "python",
   "pygments_lexer": "ipython3",
   "version": "3.7.4"
  }
 },
 "nbformat": 4,
 "nbformat_minor": 2
}
