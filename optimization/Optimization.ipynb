{
 "cells": [
  {
   "cell_type": "code",
   "execution_count": 1,
   "metadata": {},
   "outputs": [],
   "source": [
    "import numpy as np\n",
    "from numba import jit, vectorize, float64, int64\n",
    "%matplotlib inline"
   ]
  },
  {
   "cell_type": "code",
   "execution_count": 2,
   "metadata": {},
   "outputs": [],
   "source": [
    "import warnings\n",
    "warnings.filterwarnings('ignore')"
   ]
  },
  {
   "cell_type": "code",
   "execution_count": 3,
   "metadata": {},
   "outputs": [
    {
     "name": "stdout",
     "output_type": "stream",
     "text": [
      "Looking in indexes: https://test.pypi.org/simple/\r\n",
      "Requirement already satisfied: presnie in /Users/presnie/Desktop/mypackage (0.1)\r\n"
     ]
    }
   ],
   "source": [
    "!pip install -i https://test.pypi.org/simple/ presnie"
   ]
  },
  {
   "cell_type": "code",
   "execution_count": 4,
   "metadata": {},
   "outputs": [],
   "source": [
    "from algorithm import sghmc"
   ]
  },
  {
   "cell_type": "code",
   "execution_count": 5,
   "metadata": {},
   "outputs": [],
   "source": [
    "def generate_data(nrow,ncol):\n",
    "    np.random.seed(1234)\n",
    "    X=np.random.normal(0,1,[nrow,ncol])  \n",
    "    Y=np.random.binomial(1,1/(1+np.exp(-(X@theta))))\n",
    "    test=np.random.choice(range(nrow),int(nrow/2),replace=False)\n",
    "    train=np.array(list(set(range(nrow))-set(test)))\n",
    "    return X, Y, test,train"
   ]
  },
  {
   "cell_type": "code",
   "execution_count": 6,
   "metadata": {},
   "outputs": [],
   "source": [
    "np.random.seed(1234)\n",
    "theta=np.array([-5,10,5,20,30])   \n",
    "X,Y,test,train = generate_data(20000,5)"
   ]
  },
  {
   "cell_type": "code",
   "execution_count": 7,
   "metadata": {},
   "outputs": [],
   "source": [
    "X_train=X[train,:]\n",
    "Y_train=Y[train]\n",
    "X_test=X[test,:]\n",
    "Y_test=Y[test]"
   ]
  },
  {
   "cell_type": "markdown",
   "metadata": {},
   "source": [
    "## Optimization"
   ]
  },
  {
   "cell_type": "code",
   "execution_count": 8,
   "metadata": {},
   "outputs": [],
   "source": [
    "@jit\n",
    "def batch_numba(X,Y, nbatch):\n",
    "    nrow = X.shape[0]\n",
    "    idx = np.random.choice(nrow, nbatch, replace = False)\n",
    "    X_sample = X[idx,:]\n",
    "    Y_sample = Y[idx]\n",
    "    return X_sample, Y_sample"
   ]
  },
  {
   "cell_type": "code",
   "execution_count": 9,
   "metadata": {},
   "outputs": [],
   "source": [
    "@jit\n",
    "def gradlogistic_numba(X,Y,theta,n,V):  \n",
    "    #theta is updated\n",
    "    #X,Y are samples from the minibatch\n",
    "    #n is total number of observations\n",
    "    #V should be provided ahead, specified here\n",
    "    Vinv = np.linalg.inv(V)\n",
    "    d1 = -np.diag(Y-1/(1+np.exp(-X@theta)))@X\n",
    "    d2 = Vinv@theta\n",
    "    d1_avg = d1.mean(axis = 0)\n",
    "    return d1_avg*n + d2"
   ]
  },
  {
   "cell_type": "code",
   "execution_count": 10,
   "metadata": {},
   "outputs": [],
   "source": [
    "@jit([float64[:,:](float64[:],float64[:,:],float64[:],int64,float64[:],float64[:,:],float64[:,:],float64[:,:],float64,int64,int64)],cache = True)\n",
    "def sghmc_numba(theta0,X,Y,nbatch,gradU,M,C,V,eps,step = 10, niter = 10):\n",
    "    B = 1/2 * V * eps\n",
    "    sigma = np.sqrt(2*eps*(C-B))\n",
    "    n, p = X.shape\n",
    "    theta = theta0 #set an initial value of theta\n",
    "    thetas =np.zeros([step,p])\n",
    "    Minv = np.linalg.inv(M)\n",
    "    np.random.seed(10)\n",
    "    #simulate dynamics\n",
    "    for t in range(step):\n",
    "        r = np.random.multivariate_normal(np.zeros(p),np.sqrt(M))\n",
    "        for i in range(niter):\n",
    "            theta = theta + eps*Minv@r\n",
    "            X_sample,Y_sample = batch_numba(X,Y,nbatch)\n",
    "            r =  r - eps*gradU(X_sample, Y_sample,theta,n,V) - eps*C @ Minv @ r \n",
    "            + np.random.multivariate_normal(np.zeros(p),sigma,1).ravel()\n",
    "        thetas[t,:] = theta\n",
    "    return thetas"
   ]
  },
  {
   "cell_type": "markdown",
   "metadata": {},
   "source": [
    "## Comparison"
   ]
  },
  {
   "cell_type": "code",
   "execution_count": 11,
   "metadata": {},
   "outputs": [],
   "source": [
    "theta0 = np.zeros(5)\n",
    "M = C = np.eye(5)\n",
    "nbatch=500\n",
    "eps=.001\n",
    "V = np.diag([20,20,20,20,20])"
   ]
  },
  {
   "cell_type": "code",
   "execution_count": 12,
   "metadata": {},
   "outputs": [],
   "source": [
    "def gradlogistic(X,Y,theta,n,V):  \n",
    "    #theta is updated\n",
    "    #X,Y are samples from the minibatch\n",
    "    #n is total number of observations\n",
    "    #V should be provided ahead, specified here\n",
    "    Vinv = np.linalg.inv(V)\n",
    "    d1 = -np.diag(Y-1/(1+np.exp(-X@theta)))@X\n",
    "    d2 = Vinv@theta\n",
    "    d1_avg = d1.mean(axis = 0)\n",
    "    return d1_avg*n + d2"
   ]
  },
  {
   "cell_type": "code",
   "execution_count": 13,
   "metadata": {},
   "outputs": [],
   "source": [
    "@jit([float64[:,:](float64[:],float64[:,:],float64[:],int64,float64[:],float64[:,:],float64[:,:],float64[:,:],float64,int64,int64)],cache = True)\n",
    "def sghmc_batch_numba(theta0,X,Y,nbatch,gradU,M,C,V,eps,step = 10, niter = 10):\n",
    "    B = 1/2 * V * eps\n",
    "    sigma = np.sqrt(2*eps*(C-B))\n",
    "    n, p = X.shape\n",
    "    theta = theta0 #set an initial value of theta\n",
    "    thetas =np.zeros([step,p])\n",
    "    Minv = np.linalg.inv(M)\n",
    "    np.random.seed(10)\n",
    "    #simulate dynamics\n",
    "    for t in range(step):\n",
    "        r = np.random.multivariate_normal(np.zeros(p),np.sqrt(M))\n",
    "        for i in range(niter):\n",
    "            theta = theta + eps*Minv@r\n",
    "            idx = np.random.choice(n, nbatch, replace = False)\n",
    "            X_sample = X[idx,:]\n",
    "            Y_sample = Y[idx]\n",
    "            r =  r - eps*gradU(X_sample, Y_sample,theta,n,V) - eps*C @ Minv @ r \n",
    "            + np.random.multivariate_normal(np.zeros(p),sigma,1).ravel()\n",
    "        thetas[t,:] = theta\n",
    "    return thetas"
   ]
  },
  {
   "cell_type": "code",
   "execution_count": 14,
   "metadata": {},
   "outputs": [
    {
     "name": "stdout",
     "output_type": "stream",
     "text": [
      "6.62 s ± 206 ms per loop (mean ± std. dev. of 7 runs, 1 loop each)\n"
     ]
    }
   ],
   "source": [
    "%timeit sghmc.sghmc(np.zeros(5),X_train,Y_train,nbatch,gradlogistic,M,C,V,eps,200,30)"
   ]
  },
  {
   "cell_type": "code",
   "execution_count": 15,
   "metadata": {},
   "outputs": [
    {
     "name": "stdout",
     "output_type": "stream",
     "text": [
      "7.47 s ± 124 ms per loop (mean ± std. dev. of 7 runs, 1 loop each)\n"
     ]
    }
   ],
   "source": [
    "%timeit sghmc_batch_numba(np.zeros(5),X_train,Y_train,nbatch,gradlogistic_numba,M,C,V,eps,200,30)"
   ]
  },
  {
   "cell_type": "code",
   "execution_count": 16,
   "metadata": {},
   "outputs": [
    {
     "name": "stdout",
     "output_type": "stream",
     "text": [
      "5.06 s ± 102 ms per loop (mean ± std. dev. of 7 runs, 1 loop each)\n"
     ]
    }
   ],
   "source": [
    "%timeit sghmc_numba(np.zeros(5),X_train,Y_train,nbatch,gradlogistic_numba,M,C,V,eps,200,30)"
   ]
  }
 ],
 "metadata": {
  "kernelspec": {
   "display_name": "Python 3",
   "language": "python",
   "name": "python3"
  },
  "language_info": {
   "codemirror_mode": {
    "name": "ipython",
    "version": 3
   },
   "file_extension": ".py",
   "mimetype": "text/x-python",
   "name": "python",
   "nbconvert_exporter": "python",
   "pygments_lexer": "ipython3",
   "version": "3.7.4"
  }
 },
 "nbformat": 4,
 "nbformat_minor": 2
}
