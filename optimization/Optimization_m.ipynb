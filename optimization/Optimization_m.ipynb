{
 "cells": [
  {
   "cell_type": "code",
   "execution_count": 1,
   "metadata": {},
   "outputs": [],
   "source": [
    "import numpy as np\n",
    "from numba import jit, vectorize, float64, int64\n",
    "%matplotlib inline"
   ]
  },
  {
   "cell_type": "code",
   "execution_count": 2,
   "metadata": {},
   "outputs": [],
   "source": [
    "import warnings\n",
    "warnings.filterwarnings('ignore')"
   ]
  },
  {
   "cell_type": "code",
   "execution_count": 3,
   "metadata": {},
   "outputs": [
    {
     "name": "stdout",
     "output_type": "stream",
     "text": [
      "Looking in indexes: https://test.pypi.org/simple/\r\n",
      "Requirement already satisfied: presnie in /Users/presnie/Desktop/mypackage (0.1)\r\n"
     ]
    }
   ],
   "source": [
    "!pip install -i https://test.pypi.org/simple/ presnie"
   ]
  },
  {
   "cell_type": "code",
   "execution_count": 4,
   "metadata": {},
   "outputs": [],
   "source": [
    "from algorithm import sghmc"
   ]
  },
  {
   "cell_type": "code",
   "execution_count": 5,
   "metadata": {},
   "outputs": [],
   "source": [
    "def generate_data(nrow,ncol):\n",
    "    np.random.seed(1234)\n",
    "    X=np.random.normal(0,1,[nrow,ncol])  \n",
    "    Y=np.random.binomial(1,1/(1+np.exp(-(X@theta))))\n",
    "    test=np.random.choice(range(nrow),int(nrow/2),replace=False)\n",
    "    train=np.array(list(set(range(nrow))-set(test)))\n",
    "    return X, Y, test,train"
   ]
  },
  {
   "cell_type": "code",
   "execution_count": 6,
   "metadata": {},
   "outputs": [],
   "source": [
    "np.random.seed(1234)\n",
    "theta=np.array([-5,10,5,20,30])   \n",
    "X,Y,test,train = generate_data(20000,5)"
   ]
  },
  {
   "cell_type": "code",
   "execution_count": 7,
   "metadata": {},
   "outputs": [],
   "source": [
    "X_train=X[train,:]\n",
    "Y_train=Y[train]\n",
    "X_test=X[test,:]\n",
    "Y_test=Y[test]"
   ]
  },
  {
   "cell_type": "markdown",
   "metadata": {},
   "source": [
    "## Optimization"
   ]
  },
  {
   "cell_type": "code",
   "execution_count": 8,
   "metadata": {},
   "outputs": [],
   "source": [
    "@jit\n",
    "def batch_numba(X,Y, nbatch):\n",
    "    nrow = X.shape[0]\n",
    "    idx = np.random.choice(nrow, nbatch, replace = False)\n",
    "    X_sample = X[idx,:]\n",
    "    Y_sample = Y[idx]\n",
    "    return X_sample, Y_sample"
   ]
  },
  {
   "cell_type": "code",
   "execution_count": 9,
   "metadata": {},
   "outputs": [],
   "source": [
    "@jit\n",
    "def gradlogistic_numba(X,Y,theta,n,V):  \n",
    "    #theta is updated\n",
    "    #X,Y are samples from the minibatch\n",
    "    #n is total number of observations\n",
    "    #V should be provided ahead, specified here\n",
    "    Vinv = np.linalg.inv(V)\n",
    "    d1 = -np.diag(Y-1/(1+np.exp(-X@theta)))@X\n",
    "    d2 = Vinv@theta\n",
    "    d1_avg = d1.mean(axis = 0)\n",
    "    return d1_avg*n + d2"
   ]
  },
  {
   "cell_type": "code",
   "execution_count": 10,
   "metadata": {},
   "outputs": [],
   "source": [
    "@jit([float64[:,:](float64[:],float64[:,:],float64[:],int64,float64[:],float64[:,:],float64[:,:],float64[:,:],float64,int64,int64)],cache = True)\n",
    "def sghmc_numba(theta0,X,Y,nbatch,gradU,M,C,V,eps,step = 10, niter = 10):\n",
    "    B = 1/2 * V * eps\n",
    "    sigma = np.sqrt(2*eps*(C-B))\n",
    "    n, p = X.shape\n",
    "    theta = theta0 #set an initial value of theta\n",
    "    thetas =np.zeros([step,p])\n",
    "    Minv = np.linalg.inv(M)\n",
    "    np.random.seed(10)\n",
    "    #simulate dynamics\n",
    "    for t in range(step):\n",
    "        r = np.random.multivariate_normal(np.zeros(p),np.sqrt(M))\n",
    "        for i in range(niter):\n",
    "            theta = theta + eps*Minv@r\n",
    "            X_sample,Y_sample = batch_numba(X,Y,nbatch)\n",
    "            r =  r - eps*gradU(X_sample, Y_sample,theta,n,V) - eps*C @ Minv @ r \n",
    "            + np.random.multivariate_normal(np.zeros(p),sigma,1).ravel()\n",
    "        thetas[t,:] = theta\n",
    "    return thetas"
   ]
  },
  {
   "cell_type": "markdown",
   "metadata": {},
   "source": [
    "## Comparison"
   ]
  },
  {
   "cell_type": "code",
   "execution_count": 11,
   "metadata": {},
   "outputs": [],
   "source": [
    "theta0 = np.zeros(5)\n",
    "M = C = np.eye(5)\n",
    "nbatch=500\n",
    "eps=.001\n",
    "V = np.diag([20,20,20,20,20])"
   ]
  },
  {
   "cell_type": "code",
   "execution_count": 12,
   "metadata": {},
   "outputs": [],
   "source": [
    "def gradlogistic(X,Y,theta,n,V):  \n",
    "    #theta is updated\n",
    "    #X,Y are samples from the minibatch\n",
    "    #n is total number of observations\n",
    "    #V should be provided ahead, specified here\n",
    "    Vinv = np.linalg.inv(V)\n",
    "    d1 = -np.diag(Y-1/(1+np.exp(-X@theta)))@X\n",
    "    d2 = Vinv@theta\n",
    "    d1_avg = d1.mean(axis = 0)\n",
    "    return d1_avg*n + d2"
   ]
  },
  {
   "cell_type": "code",
   "execution_count": 13,
   "metadata": {},
   "outputs": [],
   "source": [
    "@jit([float64[:,:](float64[:],float64[:,:],float64[:],int64,float64[:],float64[:,:],float64[:,:],float64[:,:],float64,int64,int64)],cache = True)\n",
    "def sghmc_batch_numba(theta0,X,Y,nbatch,gradU,M,C,V,eps,step = 10, niter = 10):\n",
    "    B = 1/2 * V * eps\n",
    "    sigma = np.sqrt(2*eps*(C-B))\n",
    "    n, p = X.shape\n",
    "    theta = theta0 #set an initial value of theta\n",
    "    thetas =np.zeros([step,p])\n",
    "    Minv = np.linalg.inv(M)\n",
    "    np.random.seed(10)\n",
    "    #simulate dynamics\n",
    "    for t in range(step):\n",
    "        r = np.random.multivariate_normal(np.zeros(p),np.sqrt(M))\n",
    "        for i in range(niter):\n",
    "            theta = theta + eps*Minv@r\n",
    "            idx = np.random.choice(n, nbatch, replace = False)\n",
    "            X_sample = X[idx,:]\n",
    "            Y_sample = Y[idx]\n",
    "            r =  r - eps*gradU(X_sample, Y_sample,theta,n,V) - eps*C @ Minv @ r \n",
    "            + np.random.multivariate_normal(np.zeros(p),sigma,1).ravel()\n",
    "        thetas[t,:] = theta\n",
    "    return thetas"
   ]
  },
  {
   "cell_type": "code",
   "execution_count": 14,
   "metadata": {},
   "outputs": [
    {
     "name": "stdout",
     "output_type": "stream",
     "text": [
      "7.38 s ± 655 ms per loop (mean ± std. dev. of 7 runs, 1 loop each)\n"
     ]
    }
   ],
   "source": [
    "%timeit sghmc.sghmc(np.zeros(5),X_train,Y_train,nbatch,gradlogistic,M,C,V,eps,200,30)"
   ]
  },
  {
   "cell_type": "code",
   "execution_count": 15,
   "metadata": {},
   "outputs": [
    {
     "name": "stdout",
     "output_type": "stream",
     "text": [
      "8.99 s ± 614 ms per loop (mean ± std. dev. of 7 runs, 1 loop each)\n"
     ]
    }
   ],
   "source": [
    "%timeit sghmc_batch_numba(np.zeros(5),X_train,Y_train,nbatch,gradlogistic_numba,M,C,V,eps,200,30)"
   ]
  },
  {
   "cell_type": "code",
   "execution_count": 16,
   "metadata": {},
   "outputs": [
    {
     "name": "stdout",
     "output_type": "stream",
     "text": [
      "4.94 s ± 140 ms per loop (mean ± std. dev. of 7 runs, 1 loop each)\n"
     ]
    }
   ],
   "source": [
    "%timeit sghmc_numba(np.zeros(5),X_train,Y_train,nbatch,gradlogistic_numba,M,C,V,eps,200,30)"
   ]
  },
  {
   "cell_type": "code",
   "execution_count": 17,
   "metadata": {},
   "outputs": [
    {
     "name": "stdout",
     "output_type": "stream",
     "text": [
      " \n",
      "*** Profile stats marshalled to file 'optimized.prof'. \n"
     ]
    }
   ],
   "source": [
    "%prun -q -D optimized.prof  sghmc_numba(np.zeros(5),X_train,Y_train,nbatch,gradlogistic_numba,M,C,V,eps,200,30)"
   ]
  },
  {
   "cell_type": "code",
   "execution_count": 18,
   "metadata": {},
   "outputs": [
    {
     "name": "stdout",
     "output_type": "stream",
     "text": [
      "Tue Apr 28 17:52:19 2020    optimized.prof\n",
      "\n",
      "         916930 function calls (885889 primitive calls) in 5.980 seconds\n",
      "\n",
      "   Random listing order was used\n",
      "\n",
      "   ncalls  tottime  percall  cumtime  percall filename:lineno(function)\n",
      "    12400    0.003    0.000    0.003    0.000 {method 'append' of 'list' objects}\n",
      "    31012    0.010    0.000    0.010    0.000 {method 'get' of 'dict' objects}\n",
      "     6200    0.002    0.000    0.002    0.000 {method 'pop' of 'dict' objects}\n",
      "    24800    0.006    0.000    0.006    0.000 {method 'items' of 'dict' objects}\n",
      "        1    0.000    0.000    0.000    0.000 {method 'values' of 'collections.OrderedDict' objects}\n",
      "       11    0.000    0.000    0.000    0.000 {built-in method __new__ of type object at 0x10d7e9568}\n",
      "        8    0.000    0.000    0.000    0.000 {method 'rpartition' of 'str' objects}\n",
      "    18400    0.018    0.000    0.018    0.000 {built-in method builtins.abs}\n",
      "        3    0.000    0.000    0.000    0.000 {built-in method builtins.bin}\n",
      "        1    0.000    0.000    5.980    5.980 {built-in method builtins.exec}\n",
      "    37014    0.022    0.000    0.022    0.000 {built-in method builtins.getattr}\n",
      "     6216    0.014    0.000    0.014    0.000 {built-in method builtins.hasattr}\n",
      "    53/33    0.000    0.000    0.000    0.000 {built-in method builtins.hash}\n",
      "    36822    0.014    0.000    0.014    0.000 {built-in method builtins.isinstance}\n",
      "    24003    0.006    0.000    0.006    0.000 {built-in method builtins.issubclass}\n",
      "    24603    0.004    0.000    0.004    0.000 {built-in method builtins.len}\n",
      "       11    0.000    0.000    0.000    0.000 {built-in method _abc.get_cache_token}\n",
      "       12    0.000    0.000    0.000    0.000 {built-in method _abc._abc_instancecheck}\n",
      "        8    0.000    0.000    0.000    0.000 <frozen importlib._bootstrap>:416(parent)\n",
      "     6208    0.007    0.000    0.021    0.000 <frozen importlib._bootstrap>:1009(_handle_fromlist)\n",
      "       12    0.000    0.000    0.000    0.000 /Users/presnie/opt/anaconda3/lib/python3.7/abc.py:137(__instancecheck__)\n",
      "       11    0.000    0.000    0.000    0.000 /Users/presnie/opt/anaconda3/lib/python3.7/functools.py:781(dispatch)\n",
      "       11    0.000    0.000    0.000    0.000 /Users/presnie/opt/anaconda3/lib/python3.7/functools.py:835(wrapper)\n",
      "       11    0.000    0.000    0.000    0.000 /Users/presnie/opt/anaconda3/lib/python3.7/weakref.py:395(__getitem__)\n",
      "        1    0.000    0.000    0.000    0.000 {method 'disable' of '_lsprof.Profiler' objects}\n",
      "     6200    0.001    0.000    0.001    0.000 /Users/presnie/opt/anaconda3/lib/python3.7/site-packages/numpy/core/multiarray.py:635(result_type)\n",
      "    12400    0.004    0.000    0.004    0.000 /Users/presnie/opt/anaconda3/lib/python3.7/site-packages/numpy/core/multiarray.py:707(dot)\n",
      "     6001    0.002    0.000    0.002    0.000 {method '__array_prepare__' of 'numpy.ndarray' objects}\n",
      "     6200    0.008    0.000    0.045    0.000 {method 'all' of 'numpy.ndarray' objects}\n",
      "    12201    0.026    0.000    0.026    0.000 {method 'astype' of 'numpy.ndarray' objects}\n",
      "    49001    0.066    0.000    0.066    0.000 {built-in method numpy.array}\n",
      "     6001    0.443    0.000    0.443    0.000 {built-in method numpy.zeros}\n",
      "67801/36801    0.120    0.000    1.455    0.000 {built-in method numpy.core._multiarray_umath.implement_array_function}\n",
      "    12400    0.013    0.000    0.013    0.000 {built-in method numpy.seterrobj}\n",
      "    24800    0.008    0.000    0.008    0.000 {built-in method numpy.geterrobj}\n",
      "    37000    0.273    0.000    0.273    0.000 {method 'reduce' of 'numpy.ufunc' objects}\n",
      "     6200    0.007    0.000    0.024    0.000 <__array_function__ internals>:2(result_type)\n",
      "    12400    0.015    0.000    0.074    0.000 <__array_function__ internals>:2(dot)\n",
      "     6200    0.002    0.000    0.002    0.000 /Users/presnie/opt/anaconda3/lib/python3.7/site-packages/numpy/core/numeric.py:2099(_allclose_dispatcher)\n",
      "     6200    0.017    0.000    0.543    0.000 /Users/presnie/opt/anaconda3/lib/python3.7/site-packages/numpy/core/numeric.py:2103(allclose)\n",
      "     6200    0.001    0.000    0.001    0.000 /Users/presnie/opt/anaconda3/lib/python3.7/site-packages/numpy/core/numeric.py:2175(_isclose_dispatcher)\n",
      "     6200    0.096    0.000    0.232    0.000 /Users/presnie/opt/anaconda3/lib/python3.7/site-packages/numpy/core/numeric.py:2256(within_tol)\n",
      "     6200    0.056    0.000    0.453    0.000 /Users/presnie/opt/anaconda3/lib/python3.7/site-packages/numpy/core/numeric.py:2179(isclose)\n",
      "    12201    0.006    0.000    0.015    0.000 /Users/presnie/opt/anaconda3/lib/python3.7/site-packages/numpy/core/_asarray.py:16(asarray)\n",
      "    24400    0.013    0.000    0.028    0.000 /Users/presnie/opt/anaconda3/lib/python3.7/site-packages/numpy/core/_asarray.py:88(asanyarray)\n",
      "    12400    0.036    0.000    0.091    0.000 /Users/presnie/opt/anaconda3/lib/python3.7/site-packages/numpy/core/_ufunc_config.py:39(seterr)\n",
      "    12400    0.034    0.000    0.036    0.000 /Users/presnie/opt/anaconda3/lib/python3.7/site-packages/numpy/core/_ufunc_config.py:139(geterr)\n",
      "     6200    0.009    0.000    0.011    0.000 /Users/presnie/opt/anaconda3/lib/python3.7/site-packages/numpy/core/_ufunc_config.py:437(__init__)\n",
      "     6200    0.009    0.000    0.068    0.000 /Users/presnie/opt/anaconda3/lib/python3.7/site-packages/numpy/core/_ufunc_config.py:441(__enter__)\n",
      "     6200    0.009    0.000    0.040    0.000 /Users/presnie/opt/anaconda3/lib/python3.7/site-packages/numpy/core/_ufunc_config.py:446(__exit__)\n",
      "     6200    0.010    0.000    0.561    0.000 <__array_function__ internals>:2(allclose)\n",
      "     6200    0.007    0.000    0.469    0.000 <__array_function__ internals>:2(isclose)\n",
      "    24800    0.014    0.000    0.014    0.000 /Users/presnie/opt/anaconda3/lib/python3.7/site-packages/numpy/core/fromnumeric.py:74(<dictcomp>)\n",
      "    24800    0.057    0.000    0.185    0.000 /Users/presnie/opt/anaconda3/lib/python3.7/site-packages/numpy/core/fromnumeric.py:73(_wrapreduction)\n",
      "     6200    0.002    0.000    0.002    0.000 /Users/presnie/opt/anaconda3/lib/python3.7/site-packages/numpy/core/fromnumeric.py:2185(_any_dispatcher)\n",
      "     6200    0.012    0.000    0.075    0.000 /Users/presnie/opt/anaconda3/lib/python3.7/site-packages/numpy/core/fromnumeric.py:2189(any)\n",
      "    18600    0.004    0.000    0.004    0.000 /Users/presnie/opt/anaconda3/lib/python3.7/site-packages/numpy/core/fromnumeric.py:2273(_all_dispatcher)\n",
      "    18600    0.020    0.000    0.141    0.000 /Users/presnie/opt/anaconda3/lib/python3.7/site-packages/numpy/core/fromnumeric.py:2277(all)\n",
      "     6200    0.004    0.000    0.037    0.000 /Users/presnie/opt/anaconda3/lib/python3.7/site-packages/numpy/core/_methods.py:47(_all)\n",
      "     6000    0.021    0.000    0.027    0.000 /Users/presnie/opt/anaconda3/lib/python3.7/site-packages/numpy/core/_methods.py:50(_count_reduce_items)\n",
      "     6000    0.111    0.000    0.286    0.000 /Users/presnie/opt/anaconda3/lib/python3.7/site-packages/numpy/core/_methods.py:134(_mean)\n",
      "     6200    0.011    0.000    0.096    0.000 <__array_function__ internals>:2(any)\n",
      "    18600    0.017    0.000    0.173    0.000 <__array_function__ internals>:2(all)\n",
      "     6200    0.035    0.000    0.035    0.000 /Users/presnie/opt/anaconda3/lib/python3.7/site-packages/numpy/core/getlimits.py:497(__init__)\n",
      "     6200    0.007    0.000    0.007    0.000 /Users/presnie/opt/anaconda3/lib/python3.7/site-packages/numpy/core/getlimits.py:521(max)\n",
      "     6001    0.009    0.000    0.009    0.000 /Users/presnie/opt/anaconda3/lib/python3.7/site-packages/numpy/linalg/linalg.py:111(get_linalg_error_extobj)\n",
      "     6001    0.010    0.000    0.020    0.000 /Users/presnie/opt/anaconda3/lib/python3.7/site-packages/numpy/linalg/linalg.py:116(_makearray)\n",
      "     6002    0.004    0.000    0.005    0.000 /Users/presnie/opt/anaconda3/lib/python3.7/site-packages/numpy/linalg/linalg.py:121(isComplexType)\n",
      "        1    0.000    0.000    0.000    0.000 /Users/presnie/opt/anaconda3/lib/python3.7/site-packages/numpy/linalg/linalg.py:134(_realType)\n",
      "     6001    0.012    0.000    0.014    0.000 /Users/presnie/opt/anaconda3/lib/python3.7/site-packages/numpy/linalg/linalg.py:144(_commonType)\n",
      "     6001    0.008    0.000    0.008    0.000 /Users/presnie/opt/anaconda3/lib/python3.7/site-packages/numpy/linalg/linalg.py:203(_assertRankAtLeast2)\n",
      "     6001    0.007    0.000    0.007    0.000 /Users/presnie/opt/anaconda3/lib/python3.7/site-packages/numpy/linalg/linalg.py:209(_assertNdSquareness)\n",
      "     6001    0.002    0.000    0.002    0.000 /Users/presnie/opt/anaconda3/lib/python3.7/site-packages/numpy/linalg/linalg.py:482(_unary_dispatcher)\n",
      "     6001    0.123    0.000    0.202    0.000 /Users/presnie/opt/anaconda3/lib/python3.7/site-packages/numpy/linalg/linalg.py:486(inv)\n",
      "     6000    0.002    0.000    0.002    0.000 /Users/presnie/opt/anaconda3/lib/python3.7/site-packages/numpy/lib/twodim_base.py:212(_diag_dispatcher)\n",
      "     6000    0.098    0.000    0.551    0.000 /Users/presnie/opt/anaconda3/lib/python3.7/site-packages/numpy/lib/twodim_base.py:216(diag)\n",
      "     6000    0.009    0.000    0.569    0.000 <__array_function__ internals>:2(diag)\n",
      "     6001    0.010    0.000    0.222    0.000 <__array_function__ internals>:2(inv)\n",
      "     6200    0.043    0.000    0.095    0.000 /Users/presnie/opt/anaconda3/lib/python3.7/site-packages/numpy/lib/function_base.py:432(asarray_chkfinite)\n",
      "     6200    0.006    0.000    0.007    0.000 /Users/presnie/opt/anaconda3/lib/python3.7/site-packages/numpy/ma/core.py:6251(isMaskedArray)\n",
      "       11    0.000    0.000    0.000    0.000 /Users/presnie/opt/anaconda3/lib/python3.7/site-packages/numba/types/abstract.py:42(_intern)\n",
      "       11    0.000    0.000    0.000    0.000 /Users/presnie/opt/anaconda3/lib/python3.7/site-packages/numba/types/abstract.py:54(__call__)\n",
      "       11    0.000    0.000    0.000    0.000 /Users/presnie/opt/anaconda3/lib/python3.7/site-packages/numba/types/abstract.py:87(__init__)\n",
      "       28    0.000    0.000    0.000    0.000 /Users/presnie/opt/anaconda3/lib/python3.7/site-packages/numba/types/abstract.py:90(key)\n",
      "        3    0.000    0.000    0.000    0.000 /Users/presnie/opt/anaconda3/lib/python3.7/site-packages/numba/utils.py:398(bit_length)\n",
      "        6    0.000    0.000    0.000    0.000 /Users/presnie/opt/anaconda3/lib/python3.7/site-packages/numba/types/abstract.py:109(__repr__)\n",
      "        6    0.000    0.000    0.000    0.000 /Users/presnie/opt/anaconda3/lib/python3.7/site-packages/numba/types/abstract.py:115(__eq__)\n",
      "    53/33    0.000    0.000    0.000    0.000 /Users/presnie/opt/anaconda3/lib/python3.7/site-packages/numba/types/abstract.py:112(__hash__)\n",
      "        6    0.000    0.000    0.000    0.000 /Users/presnie/opt/anaconda3/lib/python3.7/site-packages/numba/types/common.py:49(__init__)\n",
      "        6    0.000    0.000    0.000    0.000 /Users/presnie/opt/anaconda3/lib/python3.7/site-packages/numba/types/misc.py:49(unliteral)\n",
      "        5    0.000    0.000    0.000    0.000 /Users/presnie/opt/anaconda3/lib/python3.7/site-packages/numba/types/functions.py:234(_store_object)\n",
      "        5    0.000    0.000    0.000    0.000 /Users/presnie/opt/anaconda3/lib/python3.7/site-packages/numba/types/functions.py:243(key)\n",
      "        5    0.000    0.000    0.000    0.000 /Users/presnie/opt/anaconda3/lib/python3.7/site-packages/numba/types/functions.py:247(__eq__)\n",
      "        5    0.000    0.000    0.000    0.000 /Users/presnie/opt/anaconda3/lib/python3.7/site-packages/numba/types/functions.py:252(__hash__)\n",
      "        5    0.000    0.000    0.000    0.000 /Users/presnie/opt/anaconda3/lib/python3.7/site-packages/numba/types/functions.py:261(__init__)\n",
      "        6    0.000    0.000    0.000    0.000 /Users/presnie/opt/anaconda3/lib/python3.7/site-packages/numba/types/npytypes.py:389(__init__)\n",
      "       32    0.000    0.000    0.000    0.000 /Users/presnie/opt/anaconda3/lib/python3.7/site-packages/numba/types/npytypes.py:424(key)\n",
      "       11    0.000    0.000    0.000    0.000 /Users/presnie/opt/anaconda3/lib/python3.7/site-packages/numba/typing/typeof.py:24(typeof)\n",
      "        1    0.000    0.000    0.000    0.000 /Users/presnie/opt/anaconda3/lib/python3.7/site-packages/numba/typing/typeof.py:38(typeof_impl)\n",
      "        1    0.000    0.000    0.000    0.000 /Users/presnie/opt/anaconda3/lib/python3.7/site-packages/numba/typing/typeof.py:59(_typeof_buffer)\n",
      "        1    0.000    0.000    0.000    0.000 /Users/presnie/opt/anaconda3/lib/python3.7/site-packages/numba/typing/typeof.py:109(_typeof_bool)\n",
      "        3    0.000    0.000    0.000    0.000 /Users/presnie/opt/anaconda3/lib/python3.7/site-packages/numba/typing/typeof.py:117(_typeof_int)\n",
      "        6    0.000    0.000    0.000    0.000 /Users/presnie/opt/anaconda3/lib/python3.7/site-packages/numba/typing/typeof.py:215(_typeof_ndarray)\n",
      "        6    0.000    0.000    0.000    0.000 /Users/presnie/opt/anaconda3/lib/python3.7/site-packages/numba/numpy_support.py:85(from_dtype)\n",
      "        6    0.000    0.000    0.000    0.000 /Users/presnie/opt/anaconda3/lib/python3.7/site-packages/numba/numpy_support.py:216(map_layout)\n",
      "       11    0.000    0.000    0.000    0.000 <string>:1(__new__)\n",
      "        1    0.000    0.000    0.000    0.000 /Users/presnie/opt/anaconda3/lib/python3.7/site-packages/numba/dispatcher.py:266(<listcomp>)\n",
      "        1    0.000    0.000    0.000    0.000 /Users/presnie/opt/anaconda3/lib/python3.7/site-packages/numba/dispatcher.py:264(nopython_signatures)\n",
      "        1    0.000    0.000    0.001    0.001 /Users/presnie/opt/anaconda3/lib/python3.7/site-packages/numba/dispatcher.py:510(<listcomp>)\n",
      "        1    0.000    0.000    0.001    0.001 /Users/presnie/opt/anaconda3/lib/python3.7/site-packages/numba/dispatcher.py:502(_search_new_conversions)\n",
      "        5    0.000    0.000    0.000    0.000 /Users/presnie/opt/anaconda3/lib/python3.7/site-packages/numba/dispatcher.py:518(__repr__)\n",
      "       11    0.000    0.000    0.001    0.000 /Users/presnie/opt/anaconda3/lib/python3.7/site-packages/numba/dispatcher.py:521(typeof_pyval)\n",
      "        5    0.000    0.000    0.000    0.000 /Users/presnie/opt/anaconda3/lib/python3.7/site-packages/numba/dispatcher.py:600(_numba_type_)\n",
      "        1    0.000    0.000    0.000    0.000 /Users/presnie/opt/anaconda3/lib/python3.7/site-packages/cffi/api.py:190(typeof)\n",
      "     6000    0.220    0.000    0.220    0.000 <ipython-input-8-5f7be76d808f>:1(batch_numba)\n",
      "      2/1    0.658    0.329    5.979    5.979 <ipython-input-10-4e722aa1bd41>:1(sghmc_numba)\n",
      "     6000    2.525    0.000    3.601    0.001 <ipython-input-9-00b101b9bfdc>:1(gradlogistic_numba)\n",
      "     6200    0.002    0.000    0.002    0.000 /Users/presnie/opt/anaconda3/lib/python3.7/site-packages/scipy/linalg/misc.py:177(_datacopied)\n",
      "     6200    0.012    0.000    0.154    0.000 /Users/presnie/opt/anaconda3/lib/python3.7/site-packages/scipy/linalg/lapack.py:662(get_lapack_funcs)\n",
      "     6200    0.006    0.000    0.006    0.000 /Users/presnie/opt/anaconda3/lib/python3.7/site-packages/scipy/linalg/lapack.py:761(<listcomp>)\n",
      "     6200    0.044    0.000    0.051    0.000 /Users/presnie/opt/anaconda3/lib/python3.7/site-packages/scipy/linalg/blas.py:253(find_best_blas_type)\n",
      "     6200    0.067    0.000    0.142    0.000 /Users/presnie/opt/anaconda3/lib/python3.7/site-packages/scipy/linalg/blas.py:318(_get_funcs)\n",
      "     6200    0.158    0.000    0.347    0.000 /Users/presnie/opt/anaconda3/lib/python3.7/site-packages/scipy/linalg/lapack.py:732(_compute_lwork)\n",
      "     6200    0.059    0.000    0.168    0.000 /Users/presnie/opt/anaconda3/lib/python3.7/site-packages/scipy/_lib/_util.py:193(_asarray_validated)\n",
      "     6200    0.171    0.000    0.845    0.000 /Users/presnie/opt/anaconda3/lib/python3.7/site-packages/scipy/linalg/decomp_svd.py:16(svd)\n",
      "     6200    0.005    0.000    0.008    0.000 /Users/presnie/opt/anaconda3/lib/python3.7/site-packages/scipy/sparse/base.py:1189(isspmatrix)\n",
      "        1    0.000    0.000    0.000    0.000 /Users/presnie/opt/anaconda3/lib/python3.7/site-packages/numba/typing/cffi_utils.py:30(is_ffi_instance)\n",
      "        1    0.000    0.000    0.000    0.000 /Users/presnie/opt/anaconda3/lib/python3.7/site-packages/numba/typing/cffi_utils.py:40(is_cffi_func)\n",
      "        1    0.000    0.000    5.980    5.980 <string>:1(<module>)\n",
      "\n",
      "\n"
     ]
    }
   ],
   "source": [
    "import pstats\n",
    "p = pstats.Stats('optimized.prof')\n",
    "p.print_stats()\n",
    "pass"
   ]
  },
  {
   "cell_type": "code",
   "execution_count": null,
   "metadata": {},
   "outputs": [],
   "source": []
  }
 ],
 "metadata": {
  "kernelspec": {
   "display_name": "Python 3",
   "language": "python",
   "name": "python3"
  },
  "language_info": {
   "codemirror_mode": {
    "name": "ipython",
    "version": 3
   },
   "file_extension": ".py",
   "mimetype": "text/x-python",
   "name": "python",
   "nbconvert_exporter": "python",
   "pygments_lexer": "ipython3",
   "version": "3.7.4"
  }
 },
 "nbformat": 4,
 "nbformat_minor": 2
}
