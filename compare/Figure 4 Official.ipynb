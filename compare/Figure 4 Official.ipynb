{
 "cells": [
  {
   "cell_type": "code",
   "execution_count": 1,
   "metadata": {},
   "outputs": [],
   "source": [
    "import numpy as np\n",
    "import matplotlib.pyplot as plt"
   ]
  },
  {
   "cell_type": "code",
   "execution_count": 2,
   "metadata": {},
   "outputs": [],
   "source": [
    "from numba import jit, vectorize, float64, int64\n",
    "import warnings\n",
    "warnings.filterwarnings('ignore')"
   ]
  },
  {
   "cell_type": "code",
   "execution_count": 3,
   "metadata": {},
   "outputs": [],
   "source": [
    "def gradlogistic(X,Y,theta,n,V):  \n",
    "    #theta is updated\n",
    "    #X,Y are samples from the minibatch\n",
    "    #n is total number of observations\n",
    "    #V should be provided ahead, specified here\n",
    "    Vinv = np.linalg.inv(V)\n",
    "    d1 = -np.diag(Y-1/(1+np.exp(-X@theta)))@X\n",
    "    d2 = Vinv@theta\n",
    "    d1_avg = d1.mean(axis = 0)\n",
    "    return d1_avg*n + d2"
   ]
  },
  {
   "cell_type": "code",
   "execution_count": 4,
   "metadata": {},
   "outputs": [],
   "source": [
    "def generate_data(nrow,ncol):\n",
    "    np.random.seed(1234)\n",
    "    X=np.random.normal(0,1,[nrow,ncol])  \n",
    "    Y=np.random.binomial(1,1/(1+np.exp(-(X@theta))))\n",
    "    train=np.random.choice(range(nrow),int(nrow/2),replace=False)\n",
    "    test=np.array(list(set(range(nrow))-set(train)))\n",
    "    return X, Y, train,test"
   ]
  },
  {
   "cell_type": "code",
   "execution_count": 5,
   "metadata": {},
   "outputs": [],
   "source": [
    "np.random.seed(1234)\n",
    "theta=np.array([-5,10,5,20,30]) \n",
    "X,Y,train,test = generate_data(20000,5)"
   ]
  },
  {
   "cell_type": "code",
   "execution_count": 6,
   "metadata": {},
   "outputs": [],
   "source": [
    "X_train=X[train,:]\n",
    "Y_train=Y[train]\n",
    "X_test=X[test,:]\n",
    "Y_test=Y[test]"
   ]
  },
  {
   "cell_type": "code",
   "execution_count": 7,
   "metadata": {},
   "outputs": [],
   "source": [
    "def test_err(theta):\n",
    "    err = []\n",
    "    for i in points:\n",
    "        pro = 1/(1+np.exp(-(X_test @ theta[:i,:].T)))\n",
    "        pred = np.random.binomial(1,pro)\n",
    "        coverage = np.mean(pred == Y_test[:,None])\n",
    "        err.append(1-coverage)\n",
    "    return(err)"
   ]
  },
  {
   "cell_type": "code",
   "execution_count": 8,
   "metadata": {},
   "outputs": [],
   "source": [
    "def batch(X,Y, nbatch):\n",
    "    nrow = X.shape[0]\n",
    "    idx = np.random.choice(nrow, nbatch, replace = False)\n",
    "    X_sample = X[idx,:]\n",
    "    Y_sample = Y[idx]\n",
    "    return X_sample, Y_sample"
   ]
  },
  {
   "cell_type": "markdown",
   "metadata": {},
   "source": [
    "## SGLD"
   ]
  },
  {
   "cell_type": "code",
   "execution_count": 9,
   "metadata": {},
   "outputs": [],
   "source": [
    "def sgld(X,Y,theta0,M,C,V,eps,nbatch,niter=2000):\n",
    "    n,p=X.shape\n",
    "    theta=theta0\n",
    "    theta_save=np.zeros([niter,p])\n",
    "    np.random.seed(10)\n",
    "    for t in range(niter): \n",
    "        X_sample,Y_sample = batch(X,Y,nbatch)\n",
    "        theta=theta-gradlogistic(X_sample,Y_sample,theta,n,V)*eps+np.random.multivariate_normal(np.zeros(p),np.sqrt(2*0.01*np.eye(p)),1).ravel()\n",
    "        theta_save[t,:]=theta\n",
    "    return theta_save"
   ]
  },
  {
   "cell_type": "code",
   "execution_count": 10,
   "metadata": {},
   "outputs": [],
   "source": [
    "theta0 = np.zeros(5)\n",
    "M = C = np.eye(5)\n",
    "nbatch=500\n",
    "eps=.001\n",
    "V = np.diag([20,20,20,20,20])"
   ]
  },
  {
   "cell_type": "code",
   "execution_count": 11,
   "metadata": {},
   "outputs": [],
   "source": [
    "points = np.arange(1,2010,100)"
   ]
  },
  {
   "cell_type": "code",
   "execution_count": 12,
   "metadata": {},
   "outputs": [],
   "source": [
    "sgld_theta=sgld(X_train,Y_train,theta0,M,C,V,eps,nbatch,2000)"
   ]
  },
  {
   "cell_type": "code",
   "execution_count": 13,
   "metadata": {},
   "outputs": [],
   "source": [
    "sglderr = test_err(sgld_theta)"
   ]
  },
  {
   "cell_type": "code",
   "execution_count": 14,
   "metadata": {},
   "outputs": [
    {
     "data": {
      "image/png": "[encoded data removed]",
      "text/plain": [
       "<Figure size 432x288 with 1 Axes>"
      ]
     },
     "metadata": {
      "needs_background": "light"
     },
     "output_type": "display_data"
    }
   ],
   "source": [
    "plt.plot(points,sglderr)\n",
    "plt.xlabel(\"iteration\")\n",
    "plt.ylabel(\"test error\")\n",
    "plt.title(\"SGLD\")\n",
    "plt.savefig(\"SGLD.pdf\")"
   ]
  },
  {
   "cell_type": "markdown",
   "metadata": {},
   "source": [
    "## SGHMC"
   ]
  },
  {
   "cell_type": "code",
   "execution_count": 15,
   "metadata": {},
   "outputs": [],
   "source": [
    "@jit\n",
    "def batch_numba(X,Y, nbatch):\n",
    "    nrow = X.shape[0]\n",
    "    idx = np.random.choice(nrow, nbatch, replace = False)\n",
    "    X_sample = X[idx,:]\n",
    "    Y_sample = Y[idx]\n",
    "    return X_sample, Y_sample"
   ]
  },
  {
   "cell_type": "code",
   "execution_count": 16,
   "metadata": {},
   "outputs": [],
   "source": [
    "@jit([float64[:,:](float64[:],float64[:,:],float64[:],int64,float64[:],float64[:,:],float64[:,:],float64[:,:],float64,int64,int64)],cache = True)\n",
    "def sghmc_numba(theta0,X,Y,nbatch,gradU,M,C,V,eps,step = 10, niter = 10):\n",
    "    B = 1/2 * V * eps\n",
    "    sigma = np.sqrt(2*eps*(C-B))\n",
    "    n, p = X.shape\n",
    "    theta = theta0 #set an initial value of theta\n",
    "    thetas =np.zeros([step,p])\n",
    "    Minv = np.linalg.inv(M)\n",
    "    np.random.seed(10)\n",
    "    #simulate dynamics\n",
    "    for t in range(step):\n",
    "        r = np.random.multivariate_normal(np.zeros(p),np.sqrt(M))\n",
    "        for i in range(niter):\n",
    "            theta = theta + eps*Minv@r\n",
    "            X_sample,Y_sample = batch_numba(X,Y,nbatch)\n",
    "            r =  r - eps*gradU(X_sample, Y_sample,theta,n,V) - eps*C @ Minv @ r \n",
    "            + np.random.multivariate_normal(np.zeros(p),sigma,1).ravel()\n",
    "        thetas[t,:] = theta\n",
    "    return thetas"
   ]
  },
  {
   "cell_type": "code",
   "execution_count": 17,
   "metadata": {},
   "outputs": [],
   "source": [
    "theta0 = np.zeros(5)\n",
    "M = C = np.eye(5)\n",
    "nbatch=500\n",
    "eps=.001\n",
    "V = np.diag([20,20,20,20,20])"
   ]
  },
  {
   "cell_type": "code",
   "execution_count": 18,
   "metadata": {},
   "outputs": [],
   "source": [
    "sghmc_theta = sghmc_numba(np.zeros(5),X_train,Y_train,nbatch,gradlogistic,M,C,V,eps,2000,50)"
   ]
  },
  {
   "cell_type": "code",
   "execution_count": 19,
   "metadata": {},
   "outputs": [],
   "source": [
    "sghmcerr = test_err(sghmc_theta)"
   ]
  },
  {
   "cell_type": "code",
   "execution_count": 20,
   "metadata": {},
   "outputs": [
    {
     "data": {
      "image/png": "[encoded data removed]",
      "text/plain": [
       "<Figure size 432x288 with 1 Axes>"
      ]
     },
     "metadata": {
      "needs_background": "light"
     },
     "output_type": "display_data"
    }
   ],
   "source": [
    "plt.plot(points,sghmcerr)\n",
    "plt.xlabel(\"iteration\")\n",
    "plt.ylabel(\"test error\")\n",
    "plt.title(\"SGHMC\")\n",
    "plt.savefig(\"SGHMC.pdf\")"
   ]
  },
  {
   "cell_type": "markdown",
   "metadata": {},
   "source": [
    "## SGD (simplied version, without momentum)"
   ]
  },
  {
   "cell_type": "code",
   "execution_count": 21,
   "metadata": {},
   "outputs": [],
   "source": [
    "def gradlogistic_1(x,y,theta,n,V):  \n",
    "    #theta is updated\n",
    "    #X,Y are samples from the minibatch\n",
    "    #n is total number of observations\n",
    "    #V should be provided ahead, specified here\n",
    "    Vinv = np.linalg.inv(V)\n",
    "    d1 = -np.diag([(y-1/(1+np.exp(-x@theta)))])@x[None,:]\n",
    "    d2 = Vinv@theta\n",
    "    return d1 + d2"
   ]
  },
  {
   "cell_type": "code",
   "execution_count": 22,
   "metadata": {},
   "outputs": [],
   "source": [
    "def sgd(X_train,y_train,nbatch,learning_rate,theta0, ninte):\n",
    "    theta = theta0\n",
    "    n,p = X_train.shape\n",
    "    thetas = np.zeros([ninte,p])\n",
    "    for i in range(ninte):\n",
    "        grad = gradlogistic_1(X_train[i,:],y_train[i],theta0,1,V)\n",
    "        theta = theta - learning_rate * grad\n",
    "        thetas[i] = theta\n",
    "    return thetas"
   ]
  },
  {
   "cell_type": "code",
   "execution_count": 23,
   "metadata": {},
   "outputs": [],
   "source": [
    "theta0 = np.zeros(5)\n",
    "M = C = np.eye(5)\n",
    "nbatch=500\n",
    "eps=.001\n",
    "V = np.diag([20,20,20,20,20])"
   ]
  },
  {
   "cell_type": "code",
   "execution_count": 24,
   "metadata": {},
   "outputs": [],
   "source": [
    "sgd_theta = sgd(X_train,Y_train,500,0.05,theta0,2000)"
   ]
  },
  {
   "cell_type": "code",
   "execution_count": 25,
   "metadata": {},
   "outputs": [],
   "source": [
    "sgderr = test_err(sgd_theta)"
   ]
  },
  {
   "cell_type": "code",
   "execution_count": 26,
   "metadata": {},
   "outputs": [
    {
     "data": {
      "image/png": "[encoded data removed]",
      "text/plain": [
       "<Figure size 432x288 with 1 Axes>"
      ]
     },
     "metadata": {
      "needs_background": "light"
     },
     "output_type": "display_data"
    }
   ],
   "source": [
    "plt.plot(points, sgderr)\n",
    "plt.xlabel(\"iteration\")\n",
    "plt.ylabel(\"test error\")\n",
    "plt.title(\"SGD\")\n",
    "plt.savefig(\"SGD.pdf\")"
   ]
  },
  {
   "cell_type": "markdown",
   "metadata": {},
   "source": [
    "## Compare"
   ]
  },
  {
   "cell_type": "code",
   "execution_count": 27,
   "metadata": {},
   "outputs": [
    {
     "data": {
      "image/png": "[encoded data removed]",
      "text/plain": [
       "<Figure size 432x288 with 1 Axes>"
      ]
     },
     "metadata": {
      "needs_background": "light"
     },
     "output_type": "display_data"
    }
   ],
   "source": [
    "plt.plot(points,sglderr,\"d-\")\n",
    "plt.plot(points,sghmcerr,color = \"red\")\n",
    "plt.plot(points, sgderr, '--',color = \"orange\")\n",
    "plt.legend(['SGLD','SGHMC','SGD'])\n",
    "plt.xlabel(\"iteration\")\n",
    "plt.ylabel(\"test error\")\n",
    "plt.title(\"Comparison\")\n",
    "plt.savefig(\"Comparison.pdf\")"
   ]
  },
  {
   "cell_type": "code",
   "execution_count": 28,
   "metadata": {},
   "outputs": [
    {
     "data": {
      "image/png": "[encoded data removed]",
      "text/plain": [
       "<Figure size 432x288 with 1 Axes>"
      ]
     },
     "metadata": {
      "needs_background": "light"
     },
     "output_type": "display_data"
    }
   ],
   "source": [
    "plt.plot(points,sglderr,\"d-\")\n",
    "plt.plot(points,sghmcerr,color = \"red\")\n",
    "plt.legend(['SGLD','SGHMC'])\n",
    "plt.xlabel(\"iteration\")\n",
    "plt.ylabel(\"test error\")\n",
    "plt.title(\"SGLD vs. SGHMC\")\n",
    "plt.savefig(\"SGLDvsSGHMC.pdf\")"
   ]
  }
 ],
 "metadata": {
  "kernelspec": {
   "display_name": "Python 3",
   "language": "python",
   "name": "python3"
  },
  "language_info": {
   "codemirror_mode": {
    "name": "ipython",
    "version": 3
   },
   "file_extension": ".py",
   "mimetype": "text/x-python",
   "name": "python",
   "nbconvert_exporter": "python",
   "pygments_lexer": "ipython3",
   "version": "3.7.4"
  }
 },
 "nbformat": 4,
 "nbformat_minor": 2
}
