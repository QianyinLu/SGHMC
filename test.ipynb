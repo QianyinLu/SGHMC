{
 "cells": [
  {
   "cell_type": "code",
   "execution_count": 1,
   "metadata": {},
   "outputs": [],
   "source": [
    "import numpy as np"
   ]
  },
  {
   "cell_type": "code",
   "execution_count": 2,
   "metadata": {},
   "outputs": [
    {
     "name": "stdout",
     "output_type": "stream",
     "text": [
      "Collecting git+https://github.com/QianyinLu/mypackage\n",
      "  Cloning https://github.com/QianyinLu/mypackage to /private/var/folders/0r/vsqq9mnn3wx0h5v8k21kntm80000gn/T/pip-req-build-m3fcc4ov\n",
      "  Running command git clone -q https://github.com/QianyinLu/mypackage /private/var/folders/0r/vsqq9mnn3wx0h5v8k21kntm80000gn/T/pip-req-build-m3fcc4ov\n",
      "Requirement already satisfied (use --upgrade to upgrade): SGHMC==0.1 from git+https://github.com/QianyinLu/mypackage in /Users/presnie/Desktop/mypackage\n",
      "Building wheels for collected packages: SGHMC\n",
      "  Building wheel for SGHMC (setup.py) ... \u001b[?25ldone\n",
      "\u001b[?25h  Created wheel for SGHMC: filename=SGHMC-0.1-cp37-none-any.whl size=2555 sha256=9ead6b5e52b22c6f121de802872f07646d34a437f501dad83aefa8862c7018a5\n",
      "  Stored in directory: /private/var/folders/0r/vsqq9mnn3wx0h5v8k21kntm80000gn/T/pip-ephem-wheel-cache-vd0rsjwl/wheels/98/f8/bc/f66b1acff43bde436db470454f30cca108528d486bf8315804\n",
      "Successfully built SGHMC\n",
      "Note: you may need to restart the kernel to use updated packages.\n"
     ]
    }
   ],
   "source": [
    "!pip install git+https://github.com/QianyinLu/mypackage"
   ]
  },
  {
   "cell_type": "code",
   "execution_count": 2,
   "metadata": {},
   "outputs": [],
   "source": [
    "from algorithm import sghmc"
   ]
  },
  {
   "cell_type": "code",
   "execution_count": 3,
   "metadata": {},
   "outputs": [
    {
     "data": {
      "text/plain": [
       "<function algorithm.sghmc.sghmc(theta0, X, Y, nbatch, gradU, M, C, V, eps, step=10, niter=10)>"
      ]
     },
     "execution_count": 3,
     "metadata": {},
     "output_type": "execute_result"
    }
   ],
   "source": [
    "sghmc.sghmc"
   ]
  },
  {
   "cell_type": "code",
   "execution_count": 4,
   "metadata": {},
   "outputs": [],
   "source": [
    "def gradlogistic(X,Y,theta,n,V):  \n",
    "    #theta is updated\n",
    "    #X,Y are samples from the minibatch\n",
    "    #n is total number of observations\n",
    "    #V should be provided ahead, specified here\n",
    "    Vinv = np.linalg.inv(V)\n",
    "    d1 = -np.diag(Y-1/(1+np.exp(-X@theta)))@X\n",
    "    d2 = Vinv@theta\n",
    "    d1_avg = d1.mean(axis = 0)\n",
    "    return d1_avg*n + d2"
   ]
  },
  {
   "cell_type": "code",
   "execution_count": 5,
   "metadata": {
    "scrolled": true
   },
   "outputs": [],
   "source": [
    "np.random.seed(10)\n",
    "theta=np.array([-5,3,5])\n",
    "theta0=np.zeros(3)\n",
    "M=C=np.identity(3)\n",
    "eps=.001\n",
    "nbatch=200\n",
    "V = np.diag([10,10,10])\n",
    "X=np.random.normal(0,1,[20000,3])  \n",
    "Y=np.random.binomial(1,1/(1+np.exp(-(X@theta))))\n",
    "thetas = sghmc.sghmc(theta0,X,Y,nbatch,gradlogistic,M,C,V,eps,step = 100, niter = 500)"
   ]
  },
  {
   "cell_type": "code",
   "execution_count": 6,
   "metadata": {},
   "outputs": [
    {
     "data": {
      "text/plain": [
       "array([-5.32817503,  3.2311601 ,  5.41032303])"
      ]
     },
     "execution_count": 6,
     "metadata": {},
     "output_type": "execute_result"
    }
   ],
   "source": [
    "thetas.mean(axis = 0)"
   ]
  }
 ],
 "metadata": {
  "kernelspec": {
   "display_name": "Python 3",
   "language": "python",
   "name": "python3"
  },
  "language_info": {
   "codemirror_mode": {
    "name": "ipython",
    "version": 3
   },
   "file_extension": ".py",
   "mimetype": "text/x-python",
   "name": "python",
   "nbconvert_exporter": "python",
   "pygments_lexer": "ipython3",
   "version": "3.7.4"
  }
 },
 "nbformat": 4,
 "nbformat_minor": 2
}
