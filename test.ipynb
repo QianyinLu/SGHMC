{
 "cells": [
  {
   "cell_type": "code",
   "execution_count": 2,
   "metadata": {},
   "outputs": [],
   "source": [
    "import numpy as np"
   ]
  },
  {
   "cell_type": "code",
   "execution_count": 3,
   "metadata": {},
   "outputs": [
    {
     "name": "stdout",
     "output_type": "stream",
     "text": [
      "Looking in indexes: https://test.pypi.org/simple/\r\n",
      "Requirement already satisfied: mypackage in /Users/presnie/opt/anaconda3/lib/python3.7/site-packages (0.0.1)\r\n"
     ]
    }
   ],
   "source": [
    "!pip install --index-url https://test.pypi.org/simple/ mypackage"
   ]
  },
  {
   "cell_type": "code",
   "execution_count": 4,
   "metadata": {},
   "outputs": [],
   "source": [
    "from algorithm import sghmc"
   ]
  },
  {
   "cell_type": "code",
   "execution_count": 5,
   "metadata": {},
   "outputs": [
    {
     "data": {
      "text/plain": [
       "<function algorithm.sghmc.sghmc(theta0, X, Y, nbatch, gradU, M, C, V, eps, step=10, niter=10)>"
      ]
     },
     "execution_count": 5,
     "metadata": {},
     "output_type": "execute_result"
    }
   ],
   "source": [
    "sghmc.sghmc"
   ]
  },
  {
   "cell_type": "code",
   "execution_count": 6,
   "metadata": {},
   "outputs": [],
   "source": [
    "def gradlogistic(X,Y,theta,n,V):  \n",
    "    #theta is updated\n",
    "    #X,Y are samples from the minibatch\n",
    "    #n is total number of observations\n",
    "    #V should be provided ahead, specified here\n",
    "    Vinv = np.linalg.inv(V)\n",
    "    d1 = -np.diag(Y-1/(1+np.exp(-X@theta)))@X\n",
    "    d2 = Vinv@theta\n",
    "    d1_avg = d1.mean(axis = 0)\n",
    "    return d1_avg*n + d2"
   ]
  },
  {
   "cell_type": "code",
   "execution_count": 7,
   "metadata": {
    "scrolled": true
   },
   "outputs": [],
   "source": [
    "np.random.seed(10)\n",
    "theta=np.array([-5,3,5])\n",
    "theta0=np.zeros(3)\n",
    "M=C=np.identity(3)\n",
    "eps=.001\n",
    "nbatch=200\n",
    "V = np.diag([10,10,10])\n",
    "X=np.random.normal(0,1,[20000,3])  \n",
    "Y=np.random.binomial(1,1/(1+np.exp(-(X@theta))))\n",
    "thetas = sghmc.sghmc(theta0,X,Y,nbatch,gradlogistic,M,C,V,eps,step = 100, niter = 500)"
   ]
  },
  {
   "cell_type": "code",
   "execution_count": 8,
   "metadata": {},
   "outputs": [
    {
     "data": {
      "text/plain": [
       "array([-5.32817503,  3.2311601 ,  5.41032303])"
      ]
     },
     "execution_count": 8,
     "metadata": {},
     "output_type": "execute_result"
    }
   ],
   "source": [
    "thetas.mean(axis = 0)"
   ]
  }
 ],
 "metadata": {
  "kernelspec": {
   "display_name": "Python 3",
   "language": "python",
   "name": "python3"
  },
  "language_info": {
   "codemirror_mode": {
    "name": "ipython",
    "version": 3
   },
   "file_extension": ".py",
   "mimetype": "text/x-python",
   "name": "python",
   "nbconvert_exporter": "python",
   "pygments_lexer": "ipython3",
   "version": "3.7.4"
  }
 },
 "nbformat": 4,
 "nbformat_minor": 2
}
